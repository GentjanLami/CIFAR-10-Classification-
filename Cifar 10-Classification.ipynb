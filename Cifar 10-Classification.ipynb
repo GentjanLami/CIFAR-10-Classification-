{
 "cells": [
  {
   "cell_type": "code",
   "execution_count": 29,
   "metadata": {},
   "outputs": [],
   "source": [
    "import tensorflow as tf\n",
    "from tensorflow.keras import datasets\n",
    "import numpy as np\n",
    "from sklearn import svm\n",
    "from sklearn.ensemble import RandomForestClassifier\n",
    "from sklearn.neighbors import KNeighborsClassifier\n",
    "from sklearn.linear_model import LogisticRegression\n",
    "from sklearn.metrics import classification_report,accuracy_score\n",
    "from sklearn.model_selection import train_test_split"
   ]
  },
  {
   "cell_type": "markdown",
   "metadata": {},
   "source": [
    "## Chargez les données en uttilisant tensorflow.keras"
   ]
  },
  {
   "cell_type": "code",
   "execution_count": 30,
   "metadata": {},
   "outputs": [],
   "source": [
    "def get_cifar10_data():\n",
    "    \n",
    "    #Importation des données\n",
    "    (x_train , y_train) , (x_test, y_test) = datasets.cifar10.load_data()\n",
    "\n",
    "    #Changer la dimension du train et test set\n",
    "    ## xtrain et xtest\n",
    "    xtrain = x_train.reshape(50000, 3072)\n",
    "    xtest = x_test.reshape(10000,3072)\n",
    "\n",
    "    ## ytrain et ytest\n",
    "    ytrain  = y_train.reshape(50000)\n",
    "    ytest = y_test.reshape(10000)\n",
    "\n",
    "    ## normalisation des données\n",
    "    xtrain = xtrain/255.\n",
    "    xtest = xtest/255.\n",
    "\n",
    "    print(\"Dimension du l'ensemble d'apprentissage :\",xtrain.shape,\"\\nDimension du l'ensemble de test :\",xtest.shape)\n",
    "   \n",
    "    return xtrain,xtest, ytrain, ytest"
   ]
  },
  {
   "cell_type": "code",
   "execution_count": 31,
   "metadata": {
    "scrolled": false
   },
   "outputs": [
    {
     "name": "stdout",
     "output_type": "stream",
     "text": [
      "Dimension du l'ensemble d'apprentissage : (50000, 3072) \n",
      "Dimension du l'ensemble de test : (10000, 3072)\n"
     ]
    }
   ],
   "source": [
    "xtrain, xtest, ytrain, ytest = get_cifar10_data()\n"
   ]
  },
  {
   "cell_type": "markdown",
   "metadata": {},
   "source": [
    "## Fonction pour choisir les classes"
   ]
  },
  {
   "cell_type": "code",
   "execution_count": 32,
   "metadata": {},
   "outputs": [],
   "source": [
    "def choose_classe(indice, xtrain, xtest, ytrain, ytest):\n",
    "     \n",
    "    # Determiner l'indice de chaque classe\n",
    "    index_classe1_train = np.where(ytrain==indice[0])[0]\n",
    "    index_classe2_train = np.where(ytrain==indice[1])[0]\n",
    "    index_classe1_test = np.where(ytest==indice[0])[0]\n",
    "    index_classe2_test = np.where(ytest==indice[1])[0]\n",
    "\n",
    "    # Merger les indices de deux classes dans un tableau array\n",
    "    classes_train = np.concatenate((index_classe1_train,index_classe2_train))\n",
    "    classes_test = np.concatenate((index_classe1_test,index_classe2_test))\n",
    "\n",
    "    # filtrer l'ensemble d'apprentissage xtrain et l'ensemble de test \n",
    "    x_train = xtrain[classes_train]\n",
    "    x_test = xtest[classes_test]\n",
    "\n",
    "    y_train = ytrain[classes_train]\n",
    "    y_test = ytest[classes_test]\n",
    "\n",
    "    # merger les deux partie en un seule dataset \"dataX\"\n",
    "    dataX = np.concatenate((x_train,x_test))\n",
    "\n",
    "    dataY = np.concatenate((y_train,y_test))\n",
    "\n",
    "    # la dimension du dataset finale\n",
    "    print(\"La dimension du dataset finale est : \",dataX.shape)\n",
    "    return dataX, dataY"
   ]
  },
  {
   "cell_type": "code",
   "execution_count": 33,
   "metadata": {},
   "outputs": [
    {
     "name": "stdout",
     "output_type": "stream",
     "text": [
      "La dimension du dataset finale est :  (12000, 3072)\n"
     ]
    }
   ],
   "source": [
    "dataX, dataY= choose_classe(indice=(7,8),xtrain=xtrain, xtest=xtest, ytrain=ytrain,ytest=ytest)"
   ]
  },
  {
   "cell_type": "markdown",
   "metadata": {},
   "source": [
    "## Fonction pour diviser les données"
   ]
  },
  {
   "cell_type": "code",
   "execution_count": 34,
   "metadata": {},
   "outputs": [],
   "source": [
    "def split_data():\n",
    "    dataX, dataY= choose_classe(indice=(7,8),xtrain=xtrain, xtest=xtest, ytrain=ytrain,ytest=ytest)\n",
    "       \n",
    "    # train représente désormais 70% de l'ensemble des données\n",
    "    X_train, X_test, Y_train, Y_test = train_test_split(dataX, dataY, test_size=0.3)\n",
    "    \n",
    "    # test représente désormais 15% de l'ensemble des données\n",
    "    # validation représente désormais 15% de l'ensemble des données\n",
    "    X_val, X_test, Y_val, Y_test = train_test_split(X_test, Y_test, test_size=0.5) \n",
    "    \n",
    "    return X_train, Y_train, X_val, Y_val, X_test, Y_test"
   ]
  },
  {
   "cell_type": "code",
   "execution_count": 35,
   "metadata": {},
   "outputs": [
    {
     "name": "stdout",
     "output_type": "stream",
     "text": [
      "La dimension du dataset finale est :  (12000, 3072)\n"
     ]
    }
   ],
   "source": [
    "X_train, Y_train, X_val, Y_val, X_test, Y_test=split_data()"
   ]
  },
  {
   "cell_type": "code",
   "execution_count": 36,
   "metadata": {},
   "outputs": [
    {
     "data": {
      "text/plain": [
       "(8400, 3072)"
      ]
     },
     "execution_count": 36,
     "metadata": {},
     "output_type": "execute_result"
    }
   ],
   "source": [
    "X_train.shape"
   ]
  },
  {
   "cell_type": "code",
   "execution_count": 37,
   "metadata": {},
   "outputs": [
    {
     "data": {
      "text/plain": [
       "(1800, 3072)"
      ]
     },
     "execution_count": 37,
     "metadata": {},
     "output_type": "execute_result"
    }
   ],
   "source": [
    "X_test.shape"
   ]
  },
  {
   "cell_type": "code",
   "execution_count": 38,
   "metadata": {},
   "outputs": [
    {
     "data": {
      "text/plain": [
       "(1800, 3072)"
      ]
     },
     "execution_count": 38,
     "metadata": {},
     "output_type": "execute_result"
    }
   ],
   "source": [
    "X_val.shape"
   ]
  },
  {
   "cell_type": "markdown",
   "metadata": {},
   "source": [
    "## Prédiction avec Random Forest"
   ]
  },
  {
   "cell_type": "code",
   "execution_count": 39,
   "metadata": {},
   "outputs": [
    {
     "data": {
      "text/plain": [
       "RandomForestClassifier()"
      ]
     },
     "execution_count": 39,
     "metadata": {},
     "output_type": "execute_result"
    }
   ],
   "source": [
    "## Training\n",
    "rf = RandomForestClassifier()\n",
    "rf.fit(X_train, Y_train)"
   ]
  },
  {
   "cell_type": "code",
   "execution_count": 40,
   "metadata": {},
   "outputs": [
    {
     "name": "stdout",
     "output_type": "stream",
     "text": [
      "              precision    recall  f1-score   support\n",
      "\n",
      "           7       0.91      0.92      0.91       898\n",
      "           8       0.92      0.91      0.91       902\n",
      "\n",
      "    accuracy                           0.91      1800\n",
      "   macro avg       0.91      0.91      0.91      1800\n",
      "weighted avg       0.91      0.91      0.91      1800\n",
      "\n"
     ]
    }
   ],
   "source": [
    "## Predicting\n",
    "y_pred_rf = rf.predict(X_test)\n",
    "print(classification_report(Y_test,y_pred_rf))"
   ]
  },
  {
   "cell_type": "markdown",
   "metadata": {},
   "source": [
    "## Prédiction avec KNN"
   ]
  },
  {
   "cell_type": "code",
   "execution_count": 41,
   "metadata": {},
   "outputs": [
    {
     "data": {
      "text/plain": [
       "KNeighborsClassifier()"
      ]
     },
     "execution_count": 41,
     "metadata": {},
     "output_type": "execute_result"
    }
   ],
   "source": [
    "## Training \n",
    "knn = KNeighborsClassifier(n_neighbors=5)\n",
    "knn.fit(X_train, Y_train)"
   ]
  },
  {
   "cell_type": "code",
   "execution_count": 42,
   "metadata": {},
   "outputs": [
    {
     "name": "stdout",
     "output_type": "stream",
     "text": [
      "              precision    recall  f1-score   support\n",
      "\n",
      "           7       0.95      0.73      0.83       898\n",
      "           8       0.78      0.96      0.86       902\n",
      "\n",
      "    accuracy                           0.85      1800\n",
      "   macro avg       0.87      0.85      0.84      1800\n",
      "weighted avg       0.87      0.85      0.84      1800\n",
      "\n"
     ]
    }
   ],
   "source": [
    "## Predicting\n",
    "y_pred_knn = knn.predict(X_test)\n",
    "print(classification_report(Y_test,y_pred_knn))"
   ]
  },
  {
   "cell_type": "markdown",
   "metadata": {},
   "source": [
    "## Prédiction avec Logistic Regression"
   ]
  },
  {
   "cell_type": "code",
   "execution_count": 43,
   "metadata": {},
   "outputs": [
    {
     "data": {
      "text/plain": [
       "LogisticRegression(max_iter=1000)"
      ]
     },
     "execution_count": 43,
     "metadata": {},
     "output_type": "execute_result"
    }
   ],
   "source": [
    "## Training \n",
    "lr = LogisticRegression(max_iter=1000)\n",
    "lr.fit(X_train, Y_train)"
   ]
  },
  {
   "cell_type": "code",
   "execution_count": 44,
   "metadata": {},
   "outputs": [
    {
     "name": "stdout",
     "output_type": "stream",
     "text": [
      "              precision    recall  f1-score   support\n",
      "\n",
      "           7       0.90      0.86      0.88       898\n",
      "           8       0.87      0.90      0.88       902\n",
      "\n",
      "    accuracy                           0.88      1800\n",
      "   macro avg       0.88      0.88      0.88      1800\n",
      "weighted avg       0.88      0.88      0.88      1800\n",
      "\n"
     ]
    }
   ],
   "source": [
    "## Predicting\n",
    "y_pred_lr = lr.predict(X_test)\n",
    "print(classification_report(Y_test,y_pred_lr))"
   ]
  },
  {
   "cell_type": "markdown",
   "metadata": {},
   "source": [
    "## Prédiction avec SVM"
   ]
  },
  {
   "cell_type": "code",
   "execution_count": 45,
   "metadata": {},
   "outputs": [
    {
     "data": {
      "text/plain": [
       "SVC()"
      ]
     },
     "execution_count": 45,
     "metadata": {},
     "output_type": "execute_result"
    }
   ],
   "source": [
    "## Training\n",
    "svc = svm.SVC()\n",
    "svc.fit(X_train, Y_train)"
   ]
  },
  {
   "cell_type": "code",
   "execution_count": 46,
   "metadata": {},
   "outputs": [
    {
     "name": "stdout",
     "output_type": "stream",
     "text": [
      "              precision    recall  f1-score   support\n",
      "\n",
      "           7       0.95      0.93      0.94       898\n",
      "           8       0.93      0.95      0.94       902\n",
      "\n",
      "    accuracy                           0.94      1800\n",
      "   macro avg       0.94      0.94      0.94      1800\n",
      "weighted avg       0.94      0.94      0.94      1800\n",
      "\n"
     ]
    }
   ],
   "source": [
    "## Predicting \n",
    "y_pred_svm = svc.predict(X_test)\n",
    "print(classification_report(Y_test,y_pred_svm))"
   ]
  },
  {
   "cell_type": "markdown",
   "metadata": {},
   "source": [
    "## Comparaison entre divers classificateurs"
   ]
  },
  {
   "cell_type": "code",
   "execution_count": 47,
   "metadata": {},
   "outputs": [
    {
     "name": "stdout",
     "output_type": "stream",
     "text": [
      "RandomForestClassifier Accuracy:     0.91\n",
      "K Nearest Neighbors Accuracy:        0.85\n",
      "Logistic Regression Accuracy:        0.88\n",
      "Support Vector Classifier Accuracy:  0.94\n"
     ]
    }
   ],
   "source": [
    "print(\"RandomForestClassifier Accuracy:    \", round( accuracy_score(Y_test, y_pred_rf),2))\n",
    "print(\"K Nearest Neighbors Accuracy:       \", round(accuracy_score(Y_test, y_pred_knn),2))\n",
    "print(\"Logistic Regression Accuracy:       \", round(accuracy_score(Y_test, y_pred_lr),2))\n",
    "print(\"Support Vector Classifier Accuracy: \", round(accuracy_score(Y_test, y_pred_svm),2))"
   ]
  },
  {
   "cell_type": "markdown",
   "metadata": {},
   "source": [
    "## Appliquons le classificateur choisi avec l'ensemble de validation"
   ]
  },
  {
   "cell_type": "code",
   "execution_count": 48,
   "metadata": {},
   "outputs": [
    {
     "data": {
      "text/plain": [
       "0.93"
      ]
     },
     "execution_count": 48,
     "metadata": {},
     "output_type": "execute_result"
    }
   ],
   "source": [
    "round(svc.score(X_val,Y_val),2)"
   ]
  }
 ],
 "metadata": {
  "kernelspec": {
   "display_name": "Python 3",
   "language": "python",
   "name": "python3"
  },
  "language_info": {
   "codemirror_mode": {
    "name": "ipython",
    "version": 3
   },
   "file_extension": ".py",
   "mimetype": "text/x-python",
   "name": "python",
   "nbconvert_exporter": "python",
   "pygments_lexer": "ipython3",
   "version": "3.8.3"
  }
 },
 "nbformat": 4,
 "nbformat_minor": 4
}
